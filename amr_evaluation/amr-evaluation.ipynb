{
  "cells": [
    {
      "cell_type": "markdown",
      "metadata": {
        "id": "H3ylEDlzdiQJ"
      },
      "source": [
        "**1. simple-xamr parsing for chinese-english recipes**\n",
        "\n",
        "This notebook contains code on how to run the simple-xamr parser. Running the whole notebook may take some time if you have a lot of data; remember that you need to interact with google colab to keep your session alive.\n",
        "\n",
        "First we need to clone the repository and install the dependencies. Run these cells in order (note it takes about ~10 minutes to install required packages on google colab) and ~3 min to download the pretrained model\n",
        "\n",
        "*input: newline separated plaintext recipes | \n",
        "output: parsed AMR trees in .txt file*"
      ]
    },
    {
      "cell_type": "code",
      "source": [
        "import os\n",
        "os.chdir('/content/')"
      ],
      "metadata": {
        "id": "2D9mAAe55GPb"
      },
      "execution_count": null,
      "outputs": []
    },
    {
      "cell_type": "code",
      "execution_count": null,
      "metadata": {
        "id": "vtIG8sympwjB"
      },
      "outputs": [],
      "source": [
        "!git clone https://github.com/Yrgarcia/Cross-Lingual-AMR-Parsing"
      ]
    },
    {
      "cell_type": "code",
      "execution_count": null,
      "metadata": {
        "id": "Xm0xU9dkqUWk"
      },
      "outputs": [],
      "source": [
        "import os\n",
        "os.chdir('/content/Cross-Lingual-AMR-Parsing/')\n",
        "!wget https://github.com/bjascob/amrlib-models/releases/download/model_parse_t5-v0_1_0/model_parse_t5-v0_1_0.tar.gz\n",
        "!tar -xvzf model_parse_t5-v0_1_0.tar.gz"
      ]
    },
    {
      "cell_type": "code",
      "execution_count": null,
      "metadata": {
        "id": "XK8te4hWrJK2"
      },
      "outputs": [],
      "source": [
        "!pip3 install -r requirements.txt\n",
        "!pip install unidecode"
      ]
    },
    {
      "cell_type": "markdown",
      "metadata": {
        "id": "3bW0ml4CTSyk"
      },
      "source": [
        "Now that all dependencies are installed and the repo is set up, we can actually parse the AMR trees!\n",
        "\n",
        "Note that the existing github implementation contains several hard-coded lines of logic, and I'd recommend you use my version of nmt_english.py and x_parse.py (available on github at the same location of this notebook) if you are running on google colab."
      ]
    },
    {
      "cell_type": "code",
      "execution_count": null,
      "metadata": {
        "id": "Czzl5g3xTScr"
      },
      "outputs": [],
      "source": [
        "# required: change to directory where files are located that you want to parse\n",
        "os.chdir('/content/Cross-Lingual-AMR-Parsing/')"
      ]
    },
    {
      "cell_type": "markdown",
      "metadata": {
        "id": "malVxOmDdCVt"
      },
      "source": [
        "Note: Don't worry about output errors when the code tries to compute the SMATCH score. Since we need to generate the gold trees ourselves, we will calculate it later during evaluation.\n",
        "\n",
        "Before running x_parse.py below, overwrite the existing versions of nmt_english.py and x_parse.py with the provided versions."
      ]
    },
    {
      "cell_type": "code",
      "execution_count": null,
      "metadata": {
        "id": "OT6MdL0RTSRX"
      },
      "outputs": [],
      "source": [
        "# point to relative location of x_parse script and generate the trees:\n",
        "!python x_parse.py -lang en -input_file sampled_golden_bloom_cn2en_adapted_ref.txt"
      ]
    },
    {
      "cell_type": "code",
      "execution_count": null,
      "metadata": {
        "id": "XfBWNlvNTRr4"
      },
      "outputs": [],
      "source": [
        "!python x_parse.py -lang en -input_file sampled_golden_bloom_cn2en_adapted_pred.txt"
      ]
    },
    {
      "cell_type": "code",
      "execution_count": null,
      "metadata": {
        "id": "vCMenBKHbdac"
      },
      "outputs": [],
      "source": [
        "#now let's parse the english trees\n",
        "#optional change of directory if needed\n",
        "os.chdir('/content/Cross-Lingual-AMR-Parsing/generation_results/en2cn/')"
      ]
    },
    {
      "cell_type": "code",
      "execution_count": null,
      "metadata": {
        "id": "X5KyUo8GeeNe"
      },
      "outputs": [],
      "source": [
        "!python x_parse.py -lang zh -input_file sampled_golden_bloom_en2cn_adapted_ref.txt"
      ]
    },
    {
      "cell_type": "code",
      "execution_count": null,
      "metadata": {
        "id": "qAYci0Djee1u"
      },
      "outputs": [],
      "source": [
        "!python x_parse.py -lang zh -input_file sampled_golden_bloom_en2cn_adapted_pred.txt"
      ]
    },
    {
      "cell_type": "markdown",
      "source": [
        "Note: The parsed AMR trees appear in the AMRgraphs folder."
      ],
      "metadata": {
        "id": "cSTtcu_e_PCP"
      }
    },
    {
      "cell_type": "markdown",
      "metadata": {
        "id": "VwVTZ9LlZTds"
      },
      "source": [
        "**2. xs2match evaluation**\n",
        "\n",
        "Now that we generated our AMR trees, it's time to evaluate them!\n",
        "\n",
        "For this step we will use an open source cross lingual AMR evaluation tool.\n",
        "\n",
        "*input: parsed AMR .txt file | output: xs2match score*"
      ]
    },
    {
      "cell_type": "code",
      "execution_count": null,
      "metadata": {
        "id": "5HFOQOEhZelX"
      },
      "outputs": [],
      "source": [
        "# change to parent directory to clone the repo:\n",
        "import os\n",
        "os.chdir('/content/')"
      ]
    },
    {
      "cell_type": "code",
      "execution_count": null,
      "metadata": {
        "id": "Lnp9KJqcIchy"
      },
      "outputs": [],
      "source": [
        "!git clone https://github.com/shirawein/Crossling-AMR-Eval.git"
      ]
    },
    {
      "cell_type": "code",
      "execution_count": null,
      "metadata": {
        "id": "mBky-zQSIgvJ"
      },
      "outputs": [],
      "source": [
        "import os\n",
        "os.chdir('/content/Crossling-AMR-Eval/s2match')"
      ]
    },
    {
      "cell_type": "markdown",
      "metadata": {
        "id": "0cJSv_oqw_3R"
      },
      "source": [
        "The following installations may not be necessary if you've recently ran the parsing code; however, I'm including them in case they don't exist in the runtime environment for some reason"
      ]
    },
    {
      "cell_type": "code",
      "execution_count": null,
      "metadata": {
        "id": "r2afo0x_LH0b"
      },
      "outputs": [],
      "source": [
        "!pip install scipy\n",
        "!pip install \"tensorflow>=2.0.0\"\n",
        "!pip install --upgrade tensorflow-hub\n",
        "!pip install tensorflow_text"
      ]
    },
    {
      "cell_type": "markdown",
      "metadata": {
        "id": "KUHpJU_XxOgA"
      },
      "source": [
        "Let's evaluate our files! First change the script permissions:"
      ]
    },
    {
      "cell_type": "code",
      "execution_count": null,
      "metadata": {
        "id": "_OntYX1cy_wN"
      },
      "outputs": [],
      "source": [
        "!chmod +x x_evaluation-fixed-s2match.sh"
      ]
    },
    {
      "cell_type": "markdown",
      "metadata": {
        "id": "q3w1S-MmXyYp"
      },
      "source": [
        "Heads up: This script takes a long time to run and your colab session may get disconnected. Recommended to either install an environment where you can use the GPU properly with tensorflow or run in an environment where the session won't be getting killed."
      ]
    },
    {
      "cell_type": "code",
      "source": [
        "!./x_evaluation-fixed-s2match.sh /content/Cross-Lingual-AMR-Parsing/AMRgraphs/PARSABLE_sampled_golden_bloom_cn2en_adapted_pred.txt_AMR.txt /content/Cross-Lingual-AMR-Parsing/AMRgraphs/sampled_golden_bloom_cn2en_adapted_ref.txt_AMR.txt"
      ],
      "metadata": {
        "id": "e4cvDE-QjJZs"
      },
      "execution_count": null,
      "outputs": []
    },
    {
      "cell_type": "code",
      "source": [
        "!./x_evaluation-fixed-s2match.sh /content/Cross-Lingual-AMR-Parsing/AMRgraphs/sampled_golden_bloom_en2cn_adapted_pred.txt_AMR.txt /content/Cross-Lingual-AMR-Parsing/AMRgraphs/sampled_golden_bloom_en2cn_adapted_ref.txt_AMR.txt"
      ],
      "metadata": {
        "id": "S2COnQ1qlE4o"
      },
      "execution_count": null,
      "outputs": []
    },
    {
      "cell_type": "markdown",
      "metadata": {
        "id": "Hie6QIUS1vg2"
      },
      "source": [
        "**3. smatch evaluation**\n",
        "\n",
        "clone the github here: https://github.com/snowblink14/smatch and follow the readme instructions to run the smatch.py script\n",
        "\n",
        "For precision and recall, remember to pass the --pr argument\n",
        "\n",
        "*input: parsed AMR .txt file | output: smatch score*"
      ]
    }
  ],
  "metadata": {
    "accelerator": "GPU",
    "colab": {
      "machine_shape": "hm",
      "provenance": []
    },
    "gpuClass": "standard",
    "kernelspec": {
      "display_name": "Python 3",
      "name": "python3"
    },
    "language_info": {
      "name": "python"
    }
  },
  "nbformat": 4,
  "nbformat_minor": 0
}