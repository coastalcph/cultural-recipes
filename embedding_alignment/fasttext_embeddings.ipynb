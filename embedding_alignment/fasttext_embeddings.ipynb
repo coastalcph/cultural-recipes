{
  "nbformat": 4,
  "nbformat_minor": 0,
  "metadata": {
    "colab": {
      "provenance": []
    },
    "kernelspec": {
      "name": "python3",
      "display_name": "Python 3"
    },
    "language_info": {
      "name": "python"
    }
  },
  "cells": [
    {
      "cell_type": "code",
      "source": [
        "!pip install fse"
      ],
      "metadata": {
        "id": "sHFjuFqr2wo0"
      },
      "execution_count": null,
      "outputs": []
    },
    {
      "cell_type": "code",
      "source": [
        "!python -m spacy download zh_core_web_sm\n",
        "!python -m spacy download en_core_web_sm"
      ],
      "metadata": {
        "id": "2cYCCEHW3Ktf"
      },
      "execution_count": null,
      "outputs": []
    },
    {
      "cell_type": "code",
      "source": [
        "# loading the data\n",
        "from google.colab import drive\n",
        "import json\n",
        "\n",
        "drive.mount('/content/drive')\n",
        "matched_file_path = '/content/drive/MyDrive/bidirection_matched_recipes.json'\n",
        "\n",
        "with open(matched_file_path, 'r') as f:\n",
        "  data = json.load(f)"
      ],
      "metadata": {
        "colab": {
          "base_uri": "https://localhost:8080/"
        },
        "id": "o4ReNz4F28J1",
        "outputId": "47cb46b8-f563-40cc-ebaf-9f08b68d5929"
      },
      "execution_count": 4,
      "outputs": [
        {
          "output_type": "stream",
          "name": "stdout",
          "text": [
            "Mounted at /content/drive\n"
          ]
        }
      ]
    },
    {
      "cell_type": "code",
      "source": [
        "# data preprocessing\n",
        "import spacy\n",
        "\n",
        "nlp_cn = spacy.load(\"zh_core_web_sm\")\n",
        "nlp_en = spacy.load(\"en_core_web_sm\")\n",
        "\n",
        "cn_sentences, en_sentences = [], []\n",
        "for recipe in data:\n",
        "  for value in recipe['cn_steps']:\n",
        "    cn_sentences.append(value)\n",
        "\n",
        "  for value in recipe['en_steps']:\n",
        "    en_sentences.append(value)\n",
        "\n",
        "cn_tokens, en_tokens = [], []\n",
        "for sent in en_sentences:\n",
        "  doc_en = nlp_en(sent)\n",
        "  en_tokens.append([token.text for token in doc_en])\n",
        "\n",
        "for sent in cn_sentences:\n",
        "  doc_cn = nlp_cn(sent)\n",
        "  cn_tokens.append([token.text for token in doc_cn])"
      ],
      "metadata": {
        "id": "XZtnmTdL3EBK"
      },
      "execution_count": 6,
      "outputs": []
    },
    {
      "cell_type": "code",
      "source": [
        "# fasttext embeddings\n",
        "from gensim.models import FastText\n",
        "from fse import Average, IndexedList\n",
        "\n",
        "en_ft = FastText(en_tokens, min_count=1, vector_size=10)\n",
        "en_model = Average(en_ft)\n",
        "en_model.train(IndexedList(en_tokens))\n",
        "en_model.sv.similarity(0,1)"
      ],
      "metadata": {
        "colab": {
          "base_uri": "https://localhost:8080/"
        },
        "id": "AxAltyhF3V9L",
        "outputId": "905961b9-a2c1-4fdd-9c18-4765417f6dbe"
      },
      "execution_count": 8,
      "outputs": [
        {
          "output_type": "stream",
          "name": "stderr",
          "text": [
            "WARNING:fse.models.base_s2v:found 243 empty sentences\n"
          ]
        },
        {
          "output_type": "execute_result",
          "data": {
            "text/plain": [
              "0.29277593"
            ]
          },
          "metadata": {},
          "execution_count": 8
        }
      ]
    },
    {
      "cell_type": "code",
      "source": [
        "cn_ft = FastText(cn_tokens, min_count=1, vector_size=10)\n",
        "cn_model = Average(cn_ft)\n",
        "cn_model.train(IndexedList(cn_tokens))\n",
        "cn_model.sv.similarity(0,1)"
      ],
      "metadata": {
        "colab": {
          "base_uri": "https://localhost:8080/"
        },
        "id": "pYivSGkB5OPl",
        "outputId": "fc5cc998-ac27-4ad8-c681-399ee6d838d6"
      },
      "execution_count": 9,
      "outputs": [
        {
          "output_type": "stream",
          "name": "stderr",
          "text": [
            "WARNING:fse.models.base_s2v:found 2 empty sentences\n"
          ]
        },
        {
          "output_type": "execute_result",
          "data": {
            "text/plain": [
              "0.6123755"
            ]
          },
          "metadata": {},
          "execution_count": 9
        }
      ]
    },
    {
      "cell_type": "code",
      "source": [
        "en_ft.wv.most_similar(\"锅\")"
      ],
      "metadata": {
        "colab": {
          "base_uri": "https://localhost:8080/"
        },
        "id": "dQ1H-5_G56My",
        "outputId": "7c9db212-e390-47c3-971a-0cdce8e1df2b"
      },
      "execution_count": 33,
      "outputs": [
        {
          "output_type": "execute_result",
          "data": {
            "text/plain": [
              "[('looking', 0.7993849515914917),\n",
              " ('Rotating', 0.7883195281028748),\n",
              " ('rotating', 0.787180483341217),\n",
              " ('tilting', 0.7763185501098633),\n",
              " ('bubbling', 0.7753626108169556),\n",
              " ('decorating', 0.7650951147079468),\n",
              " ('precooking', 0.7610251307487488),\n",
              " ('eating', 0.7606989145278931),\n",
              " ('Looking', 0.7566357851028442),\n",
              " ('Checking', 0.754292905330658)]"
            ]
          },
          "metadata": {},
          "execution_count": 33
        }
      ]
    },
    {
      "cell_type": "code",
      "source": [
        "cn_ft.wv.most_similar(\"锅\")"
      ],
      "metadata": {
        "colab": {
          "base_uri": "https://localhost:8080/"
        },
        "id": "wUJICs7ZFX9t",
        "outputId": "fd0a8070-e8ca-4c6e-8859-451b01fddf60"
      },
      "execution_count": 32,
      "outputs": [
        {
          "output_type": "execute_result",
          "data": {
            "text/plain": [
              "[('锅中', 0.9466560482978821),\n",
              " ('锅中焯', 0.9466060996055603),\n",
              " ('锅中添', 0.9442524313926697),\n",
              " ('锅里', 0.9430060386657715),\n",
              " ('锅内', 0.9427359700202942),\n",
              " ('锅中调', 0.9415774345397949),\n",
              " ('原炒锅', 0.9406287670135498),\n",
              " ('锅中水', 0.9404528141021729),\n",
              " ('锅里油', 0.9385949969291687),\n",
              " ('锅内盖', 0.9381129741668701)]"
            ]
          },
          "metadata": {},
          "execution_count": 32
        }
      ]
    },
    {
      "cell_type": "code",
      "source": [
        "# saving the embeddings in a txt file\n",
        "\n",
        "with open(\"en_token_embeds.txt\", \"w\") as fw:\n",
        "  for sent in en_tokens:\n",
        "    for word in sent:\n",
        "      embed = en_ft.wv[word]\n",
        "      fw.write(\"{}{}\\n\".format(word, embed))\n",
        "with open(\"cn_token_embeds.txt\", \"w\") as fw:\n",
        "  for sent in cn_tokens:\n",
        "    for word in sent:\n",
        "      embed = cn_ft.wv[word]\n",
        "      fw.write(\"{}{}\\n\".format(word, embed))"
      ],
      "metadata": {
        "id": "DthbLttJTqCX"
      },
      "execution_count": 66,
      "outputs": []
    },
    {
      "cell_type": "code",
      "source": [
        "from google.colab import files\n",
        "files.download('en_token_embeds.txt') "
      ],
      "metadata": {
        "id": "XfJ48J0DZbWP"
      },
      "execution_count": null,
      "outputs": []
    },
    {
      "cell_type": "code",
      "source": [
        "from google.colab import files\n",
        "files.download('cn_token_embeds.txt') "
      ],
      "metadata": {
        "id": "id_tCWnzZelh"
      },
      "execution_count": null,
      "outputs": []
    }
  ]
}